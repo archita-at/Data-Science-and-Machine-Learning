{
 "cells": [
  {
   "cell_type": "markdown",
   "metadata": {},
   "source": [
    "# Understanding Error Optimization using Gradient Descent"
   ]
  },
  {
   "cell_type": "markdown",
   "metadata": {},
   "source": [
    "Gradient Descent is used for multiple Linear Regression, so there will be more than one feature."
   ]
  },
  {
   "cell_type": "markdown",
   "metadata": {},
   "source": [
    "First we will use dummy data to understand the concept and create an algorithm."
   ]
  },
  {
   "cell_type": "code",
   "execution_count": 1,
   "metadata": {},
   "outputs": [],
   "source": [
    "#Two Random Features\n",
    "x1 = 5\n",
    "x2 = 8\n",
    "#Target Variable\n",
    "Y = 89"
   ]
  },
  {
   "cell_type": "code",
   "execution_count": 2,
   "metadata": {},
   "outputs": [],
   "source": [
    "#First we will assign random values to the coefficients of x1 and x2\n",
    "m1 = 3.2\n",
    "m2 = 0.4"
   ]
  },
  {
   "cell_type": "code",
   "execution_count": 3,
   "metadata": {},
   "outputs": [
    {
     "data": {
      "text/plain": [
       "19.2"
      ]
     },
     "execution_count": 3,
     "metadata": {},
     "output_type": "execute_result"
    }
   ],
   "source": [
    "#Equation of our line\n",
    "Yp = m1*x1 + m2*x2\n",
    "Yp"
   ]
  },
  {
   "cell_type": "markdown",
   "metadata": {},
   "source": [
    "Clearly Yp (our prediction) is not equal to Y (true value)"
   ]
  },
  {
   "cell_type": "code",
   "execution_count": 4,
   "metadata": {},
   "outputs": [
    {
     "data": {
      "text/plain": [
       "4872.04"
      ]
     },
     "execution_count": 4,
     "metadata": {},
     "output_type": "execute_result"
    }
   ],
   "source": [
    "#Calculate the error\n",
    "(Y-Yp)**2"
   ]
  },
  {
   "cell_type": "markdown",
   "metadata": {},
   "source": [
    "We will generate partial derivatives w.r.t. m1 and m2 >> subtract them from assumed m1 and m2 >> replace with m1 and m2"
   ]
  },
  {
   "cell_type": "code",
   "execution_count": 5,
   "metadata": {},
   "outputs": [],
   "source": [
    "dem1 = 2*(Y-Yp)*(-x1) #partial derivative of x1\n",
    "dem2 = 2*(Y-Yp)*(-x2) #partial derivative of x2"
   ]
  },
  {
   "cell_type": "code",
   "execution_count": 6,
   "metadata": {},
   "outputs": [],
   "source": [
    "#m1 = m1 - partial derivative of x1 w.r.t. m1\n",
    "m1 = m1 - 0.001*dem1\n",
    "#m2 = m2 - partial derivative of x2 w.r.t. m2\n",
    "m2 = m2 - 0.001*dem2"
   ]
  },
  {
   "cell_type": "markdown",
   "metadata": {},
   "source": [
    "0.001 - learning rate - take small steps and check the error"
   ]
  },
  {
   "cell_type": "markdown",
   "metadata": {},
   "source": [
    "The learning rate is a hyperparameter that controls how much to change the model in response to the estimated error each time the model weights are update"
   ]
  },
  {
   "cell_type": "code",
   "execution_count": 7,
   "metadata": {},
   "outputs": [
    {
     "name": "stdout",
     "output_type": "stream",
     "text": [
      "3291.95947536\n"
     ]
    }
   ],
   "source": [
    "#Calculate the error using the updated coefficients\n",
    "Yp = m1*x1 + m2*x2\n",
    "print((Y-Yp)**2)"
   ]
  },
  {
   "cell_type": "markdown",
   "metadata": {},
   "source": [
    "We can see that the error dropped from 4872.04 to 3291.95 in a single step."
   ]
  },
  {
   "cell_type": "markdown",
   "metadata": {},
   "source": [
    "# Create the algorithm"
   ]
  },
  {
   "cell_type": "code",
   "execution_count": 8,
   "metadata": {},
   "outputs": [],
   "source": [
    "x1 = 5\n",
    "x2 = 8\n",
    "Y = 89\n",
    "m1 = 3.2\n",
    "m2 = 0.4"
   ]
  },
  {
   "cell_type": "code",
   "execution_count": 9,
   "metadata": {},
   "outputs": [
    {
     "name": "stdout",
     "output_type": "stream",
     "text": [
      "m1:  3.898 m2:  1.5168 Yp:  19.2 error:  4872.04\n",
      "m1:  4.471756 m2:  2.4348096 Yp:  31.6244 error:  3291.95947536\n",
      "m1:  4.943383432 m2:  3.1894134912 Yp:  41.8372568 error:  2224.3243461491465\n",
      "m1:  5.331061181104 m2:  3.8096978897664 Yp:  50.2322250896 error:  1502.9403715034398\n",
      "m1:  5.6497322908674885 m2:  4.319571665387981 Yp:  57.1328890236512 error:  1015.51276197893\n",
      "m1:  5.911679943093076 m2:  4.73868790894892 Yp:  62.80523477744129 error:  686.1657250649712\n",
      "m1:  6.127000913222509 m2:  5.083201461156012 Yp:  67.46790298705675 error:  463.6312017747998\n",
      "m1:  6.3039947506689025 m2:  5.366391601070242 Yp:  71.30061625536064 error:  313.2681849400041\n",
      "m1:  6.449483685049838 m2:  5.599173896079739 Yp:  74.45110656190644 error:  211.67030027300177\n",
      "m1:  6.569075589110967 m2:  5.790520942577545 Yp:  77.0408095938871 error:  143.02223516966274\n",
      "m1:  6.667380134249215 m2:  5.947808214798742 Yp:  79.1695454861752 error:  96.63783594837848\n",
      "m1:  6.748186470352855 m2:  6.077098352564565 Yp:  80.91936638963601 error:  65.29663954494416\n",
      "m1:  6.814609278630047 m2:  6.183374845808073 Yp:  82.3577191722808 error:  44.11989459428612\n",
      "m1:  6.869208827033899 m2:  6.270734123254236 Yp:  83.54004515961482 error:  29.811106859045555\n",
      "m1:  6.914089655821865 m2:  6.342543449314982 Yp:  84.51191712120338 error:  20.14288792694734\n",
      "m1:  6.950981697085573 m2:  6.401570715336915 Yp:  85.31079587362919 error:  13.610227086031419\n",
      "m1:  6.981306955004341 m2:  6.450091128006943 Yp:  85.96747420812318 error:  9.196212678398144\n",
      "m1:  7.006234317013569 m2:  6.489974907221708 Yp:  86.50726379907725 error:  6.2137337673907815\n",
      "m1:  7.0267246085851545 m2:  6.5227593737362435 Yp:  86.95097084284151 error:  4.1985204868856165\n",
      "m1:  7.043567628256997 m2:  6.549708205211192 Yp:  87.31569803281572 error:  2.836873116660844\n",
      "m1:  7.057412590427252 m2:  6.571860144683599 Yp:  87.61550378297451 error:  1.9168297749578815\n",
      "m1:  7.068793149331202 m2:  6.590069038929919 Yp:  87.86194410960505 error:  1.295171209662647\n",
      "m1:  7.078147968750248 m2:  6.605036750000393 Yp:  88.06451805809536 error:  0.8751264636296776\n",
      "m1:  7.085837630312705 m2:  6.617340208500322 Yp:  88.23103384375437 error:  0.5913089494511712\n",
      "m1:  7.092158532117044 m2:  6.627453651387264 Yp:  88.36790981956611 error:  0.3995379962009497\n",
      "m1:  7.097354313400211 m2:  6.635766901440331 Yp:  88.48042187168333 error:  0.2699614314250506\n",
      "m1:  7.101625245614974 m2:  6.642600392983951 Yp:  88.5729067785237 error:  0.18240861983100207\n",
      "m1:  7.105135951895509 m2:  6.648217523032807 Yp:  88.64892937194648 error:  0.1232505858818932\n",
      "m1:  7.108021752458109 m2:  6.652834803932967 Yp:  88.71141994374 error:  0.0832784488710262\n",
      "m1:  7.110393880520566 m2:  6.656630208832898 Yp:  88.76278719375428 error:  0.05626991544697053\n"
     ]
    }
   ],
   "source": [
    "error_values=[]\n",
    "for i in range(0,30):\n",
    "  Yp = m1*x1 + m2*x2\n",
    "  dem1 = 2*(Y-Yp)*(-x1)\n",
    "  dem2 = 2*(Y-Yp)*(-x2)\n",
    "  m1 = m1 - 0.001*dem1\n",
    "  m2 = m2 - 0.001*dem2\n",
    "  e = (Y-Yp)**2\n",
    "  error_values.append(e)\n",
    "  print('m1: ',m1,'m2: ',m2,'Yp: ',Yp,'error: ',e)"
   ]
  },
  {
   "cell_type": "markdown",
   "metadata": {},
   "source": [
    "We can see how the error drops from 4872.04 to 0.05 in 30 steps"
   ]
  },
  {
   "cell_type": "code",
   "execution_count": 10,
   "metadata": {},
   "outputs": [
    {
     "data": {
      "image/png": "[encoded data removed]",
      "text/plain": [
       "<Figure size 432x288 with 1 Axes>"
      ]
     },
     "metadata": {
      "needs_background": "light"
     },
     "output_type": "display_data"
    }
   ],
   "source": [
    "import matplotlib.pyplot as plt\n",
    "plt.plot(error_values)\n",
    "plt.title(\"Error values with increasing steps\")\n",
    "plt.show()"
   ]
  },
  {
   "cell_type": "markdown",
   "metadata": {},
   "source": [
    "We can see that for the first 10 steps the error reduces drastically and after that the error reduces very slowly."
   ]
  },
  {
   "cell_type": "markdown",
   "metadata": {},
   "source": [
    "# Working with Actual Dataset"
   ]
  },
  {
   "cell_type": "code",
   "execution_count": 11,
   "metadata": {},
   "outputs": [
    {
     "data": {
      "text/html": [
       "<div>\n",
       "<style scoped>\n",
       "    .dataframe tbody tr th:only-of-type {\n",
       "        vertical-align: middle;\n",
       "    }\n",
       "\n",
       "    .dataframe tbody tr th {\n",
       "        vertical-align: top;\n",
       "    }\n",
       "\n",
       "    .dataframe thead th {\n",
       "        text-align: right;\n",
       "    }\n",
       "</style>\n",
       "<table border=\"1\" class=\"dataframe\">\n",
       "  <thead>\n",
       "    <tr style=\"text-align: right;\">\n",
       "      <th></th>\n",
       "      <th>0</th>\n",
       "      <th>1</th>\n",
       "    </tr>\n",
       "  </thead>\n",
       "  <tbody>\n",
       "    <tr>\n",
       "      <th>0</th>\n",
       "      <td>-10.0</td>\n",
       "      <td>-400.298943</td>\n",
       "    </tr>\n",
       "    <tr>\n",
       "      <th>1</th>\n",
       "      <td>-9.9</td>\n",
       "      <td>-390.568974</td>\n",
       "    </tr>\n",
       "    <tr>\n",
       "      <th>2</th>\n",
       "      <td>-9.8</td>\n",
       "      <td>-364.284896</td>\n",
       "    </tr>\n",
       "    <tr>\n",
       "      <th>3</th>\n",
       "      <td>-9.7</td>\n",
       "      <td>-355.562114</td>\n",
       "    </tr>\n",
       "    <tr>\n",
       "      <th>4</th>\n",
       "      <td>-9.6</td>\n",
       "      <td>-337.946480</td>\n",
       "    </tr>\n",
       "  </tbody>\n",
       "</table>\n",
       "</div>"
      ],
      "text/plain": [
       "      0           1\n",
       "0 -10.0 -400.298943\n",
       "1  -9.9 -390.568974\n",
       "2  -9.8 -364.284896\n",
       "3  -9.7 -355.562114\n",
       "4  -9.6 -337.946480"
      ]
     },
     "execution_count": 11,
     "metadata": {},
     "output_type": "execute_result"
    }
   ],
   "source": [
    "import pandas as pd\n",
    "df = pd.read_csv('dataset.csv',header = None) #read the dataset\n",
    "df.head(5)"
   ]
  },
  {
   "cell_type": "code",
   "execution_count": 12,
   "metadata": {},
   "outputs": [
    {
     "data": {
      "text/plain": [
       "(201, 2)"
      ]
     },
     "execution_count": 12,
     "metadata": {},
     "output_type": "execute_result"
    }
   ],
   "source": [
    "df.shape"
   ]
  },
  {
   "cell_type": "code",
   "execution_count": 13,
   "metadata": {},
   "outputs": [],
   "source": [
    "import numpy as np\n",
    "x0 = np.ones([201,1])\n",
    "x1 = df[[0]]\n",
    "y = df[[1]]"
   ]
  },
  {
   "cell_type": "markdown",
   "metadata": {},
   "source": [
    "ACTUALLY WE ARE USING POLYNOMIAL REGRESSION TO UNDERSTAND GRADIENT DESCENT"
   ]
  },
  {
   "cell_type": "code",
   "execution_count": 14,
   "metadata": {},
   "outputs": [],
   "source": [
    "X = np.hstack((x0 , x1 , x1**2 , x1**3)) #generate the features for the dataset"
   ]
  },
  {
   "cell_type": "code",
   "execution_count": 15,
   "metadata": {},
   "outputs": [
    {
     "data": {
      "text/plain": [
       "array([[ 2.01090031],\n",
       "       [ 1.04330506],\n",
       "       [-0.57685775],\n",
       "       [ 1.04809016]])"
      ]
     },
     "execution_count": 15,
     "metadata": {},
     "output_type": "execute_result"
    }
   ],
   "source": [
    "#generate random coefficients\n",
    "m = np.array([np.random.randn(1) , np.random.randn(1) , np.random.randn(1) , np.random.randn(1)]) \n",
    "m"
   ]
  },
  {
   "cell_type": "code",
   "execution_count": 16,
   "metadata": {},
   "outputs": [],
   "source": [
    "Yp = np.dot(X,m) #dot product of X(features) and m(coefficients)"
   ]
  },
  {
   "cell_type": "code",
   "execution_count": 17,
   "metadata": {},
   "outputs": [
    {
     "data": {
      "text/plain": [
       "1    51890.510515\n",
       "dtype: float64"
      ]
     },
     "execution_count": 17,
     "metadata": {},
     "output_type": "execute_result"
    }
   ],
   "source": [
    "((y - Yp)**2).mean() #check error"
   ]
  },
  {
   "cell_type": "code",
   "execution_count": 18,
   "metadata": {},
   "outputs": [],
   "source": [
    "#generate partial derivatives\n",
    "dem0 = 2 * np.dot((y-Yp).T ,(-X[:,0:1]))\n",
    "dem1 = 2 * np.dot((y-Yp).T ,(-X[:,1:2]))\n",
    "dem2 = 2 * np.dot((y-Yp).T ,(-X[:,2:3]))\n",
    "dem3 = 2 * np.dot((y-Yp).T ,(-X[:,3:4]))"
   ]
  },
  {
   "cell_type": "code",
   "execution_count": 19,
   "metadata": {},
   "outputs": [],
   "source": [
    "#update the coefficients\n",
    "m[0][0] = m[0][0] - 0.00001 * dem0\n",
    "m[1][0] = m[1][0] - 0.0000001 * dem1\n",
    "m[2][0] = m[2][0] - 0.0000001 * dem2\n",
    "m[3][0] = m[3][0] - 0.00000001 * dem3"
   ]
  },
  {
   "cell_type": "code",
   "execution_count": 20,
   "metadata": {},
   "outputs": [
    {
     "data": {
      "text/plain": [
       "1    12179.552367\n",
       "dtype: float64"
      ]
     },
     "execution_count": 20,
     "metadata": {},
     "output_type": "execute_result"
    }
   ],
   "source": [
    "#get dot product and check error\n",
    "Yp = np.dot(X,m)\n",
    "((y - Yp)**2).mean()"
   ]
  },
  {
   "cell_type": "code",
   "execution_count": 21,
   "metadata": {},
   "outputs": [],
   "source": [
    "#generate the algorithm for error optimisation\n",
    "error_values = []\n",
    "for i in range(0,1500):\n",
    "  Yp = np.dot(X,m)\n",
    "\n",
    "  dem0 = 2 * np.dot((y-Yp).T ,(-X[:,0:1]))\n",
    "  dem1 = 2 * np.dot((y-Yp).T ,(-X[:,1:2]))\n",
    "  dem2 = 2 * np.dot((y-Yp).T ,(-X[:,2:3]))\n",
    "  dem3 = 2 * np.dot((y-Yp).T ,(-X[:,3:4]))\n",
    "\n",
    "  m[0][0] = m[0][0] - 0.00001*dem0\n",
    "  m[1][0] = m[1][0] - 0.0000001 * dem1\n",
    "  m[2][0] = m[2][0] - 0.0000001 * dem2\n",
    "  m[3][0] = m[3][0] - 0.00000001 * dem3\n",
    "\n",
    "  e = ((y - Yp)**2).mean()\n",
    "  error_values.append(e)\n",
    "  #print('Bias',m[0][0],'m1',m[1][0],'m2',m[2][0],'m3',m[3][0],'Error',e)"
   ]
  },
  {
   "cell_type": "code",
   "execution_count": 22,
   "metadata": {},
   "outputs": [
    {
     "data": {
      "text/plain": [
       "1    7.331794\n",
       "dtype: float64"
      ]
     },
     "execution_count": 22,
     "metadata": {},
     "output_type": "execute_result"
    }
   ],
   "source": [
    "#check the error\n",
    "abs(y-Yp).mean()"
   ]
  },
  {
   "cell_type": "code",
   "execution_count": 23,
   "metadata": {},
   "outputs": [
    {
     "data": {
      "image/png": "[encoded data removed]",
      "text/plain": [
       "<Figure size 432x288 with 1 Axes>"
      ]
     },
     "metadata": {
      "needs_background": "light"
     },
     "output_type": "display_data"
    }
   ],
   "source": [
    "#visualze the predictions\n",
    "import matplotlib.pyplot as plt\n",
    "plt.scatter(x1,y)\n",
    "plt.plot(x1,Yp,c='r')\n",
    "plt.title(\"Check predicted value against true values\")\n",
    "plt.show()"
   ]
  }
 ],
 "metadata": {
  "kernelspec": {
   "display_name": "Python 3",
   "language": "python",
   "name": "python3"
  },
  "language_info": {
   "codemirror_mode": {
    "name": "ipython",
    "version": 3
   },
   "file_extension": ".py",
   "mimetype": "text/x-python",
   "name": "python",
   "nbconvert_exporter": "python",
   "pygments_lexer": "ipython3",
   "version": "3.7.7"
  }
 },
 "nbformat": 4,
 "nbformat_minor": 4
}
