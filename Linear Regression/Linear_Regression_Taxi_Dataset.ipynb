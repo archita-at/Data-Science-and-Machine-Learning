{
 "cells": [
  {
   "cell_type": "markdown",
   "metadata": {},
   "source": [
    "# Linear Regression"
   ]
  },
  {
   "cell_type": "markdown",
   "metadata": {},
   "source": [
    "Import required libraries pandas - to work with data from csv file numpy - to work with array matplotlib - visualization of the data"
   ]
  },
  {
   "cell_type": "code",
   "execution_count": 1,
   "metadata": {},
   "outputs": [],
   "source": [
    "import pandas as pd\n",
    "import numpy as np\n",
    "import matplotlib.pyplot as plt"
   ]
  },
  {
   "cell_type": "code",
   "execution_count": 2,
   "metadata": {},
   "outputs": [
    {
     "data": {
      "text/html": [
       "<div>\n",
       "<style scoped>\n",
       "    .dataframe tbody tr th:only-of-type {\n",
       "        vertical-align: middle;\n",
       "    }\n",
       "\n",
       "    .dataframe tbody tr th {\n",
       "        vertical-align: top;\n",
       "    }\n",
       "\n",
       "    .dataframe thead th {\n",
       "        text-align: right;\n",
       "    }\n",
       "</style>\n",
       "<table border=\"1\" class=\"dataframe\">\n",
       "  <thead>\n",
       "    <tr style=\"text-align: right;\">\n",
       "      <th></th>\n",
       "      <th>vendorID</th>\n",
       "      <th>passengerCount</th>\n",
       "      <th>tripDistance</th>\n",
       "      <th>hour_of_day</th>\n",
       "      <th>day_of_week</th>\n",
       "      <th>day_of_month</th>\n",
       "      <th>month_num</th>\n",
       "      <th>normalizeHolidayName</th>\n",
       "      <th>isPaidTimeOff</th>\n",
       "      <th>snowDepth</th>\n",
       "      <th>precipTime</th>\n",
       "      <th>precipDepth</th>\n",
       "      <th>temperature</th>\n",
       "      <th>totalAmount</th>\n",
       "    </tr>\n",
       "  </thead>\n",
       "  <tbody>\n",
       "    <tr>\n",
       "      <th>0</th>\n",
       "      <td>1</td>\n",
       "      <td>1</td>\n",
       "      <td>9.40</td>\n",
       "      <td>15</td>\n",
       "      <td>2</td>\n",
       "      <td>27</td>\n",
       "      <td>1</td>\n",
       "      <td>None</td>\n",
       "      <td>False</td>\n",
       "      <td>29.058824</td>\n",
       "      <td>24.0</td>\n",
       "      <td>3.0</td>\n",
       "      <td>6.185714</td>\n",
       "      <td>44.30</td>\n",
       "    </tr>\n",
       "    <tr>\n",
       "      <th>1</th>\n",
       "      <td>2</td>\n",
       "      <td>5</td>\n",
       "      <td>14.75</td>\n",
       "      <td>13</td>\n",
       "      <td>4</td>\n",
       "      <td>15</td>\n",
       "      <td>1</td>\n",
       "      <td>None</td>\n",
       "      <td>False</td>\n",
       "      <td>0.000000</td>\n",
       "      <td>6.0</td>\n",
       "      <td>0.0</td>\n",
       "      <td>4.571930</td>\n",
       "      <td>44.80</td>\n",
       "    </tr>\n",
       "    <tr>\n",
       "      <th>2</th>\n",
       "      <td>2</td>\n",
       "      <td>1</td>\n",
       "      <td>3.35</td>\n",
       "      <td>23</td>\n",
       "      <td>4</td>\n",
       "      <td>8</td>\n",
       "      <td>1</td>\n",
       "      <td>None</td>\n",
       "      <td>False</td>\n",
       "      <td>0.000000</td>\n",
       "      <td>1.0</td>\n",
       "      <td>0.0</td>\n",
       "      <td>4.384091</td>\n",
       "      <td>18.96</td>\n",
       "    </tr>\n",
       "    <tr>\n",
       "      <th>3</th>\n",
       "      <td>2</td>\n",
       "      <td>1</td>\n",
       "      <td>3.33</td>\n",
       "      <td>18</td>\n",
       "      <td>2</td>\n",
       "      <td>27</td>\n",
       "      <td>1</td>\n",
       "      <td>None</td>\n",
       "      <td>False</td>\n",
       "      <td>29.058824</td>\n",
       "      <td>24.0</td>\n",
       "      <td>3.0</td>\n",
       "      <td>6.185714</td>\n",
       "      <td>16.30</td>\n",
       "    </tr>\n",
       "    <tr>\n",
       "      <th>4</th>\n",
       "      <td>2</td>\n",
       "      <td>1</td>\n",
       "      <td>0.47</td>\n",
       "      <td>17</td>\n",
       "      <td>6</td>\n",
       "      <td>3</td>\n",
       "      <td>1</td>\n",
       "      <td>None</td>\n",
       "      <td>False</td>\n",
       "      <td>0.000000</td>\n",
       "      <td>1.0</td>\n",
       "      <td>0.0</td>\n",
       "      <td>3.846429</td>\n",
       "      <td>5.30</td>\n",
       "    </tr>\n",
       "  </tbody>\n",
       "</table>\n",
       "</div>"
      ],
      "text/plain": [
       "   vendorID  passengerCount  tripDistance  hour_of_day  day_of_week  \\\n",
       "0         1               1          9.40           15            2   \n",
       "1         2               5         14.75           13            4   \n",
       "2         2               1          3.35           23            4   \n",
       "3         2               1          3.33           18            2   \n",
       "4         2               1          0.47           17            6   \n",
       "\n",
       "   day_of_month  month_num normalizeHolidayName  isPaidTimeOff  snowDepth  \\\n",
       "0            27          1                 None          False  29.058824   \n",
       "1            15          1                 None          False   0.000000   \n",
       "2             8          1                 None          False   0.000000   \n",
       "3            27          1                 None          False  29.058824   \n",
       "4             3          1                 None          False   0.000000   \n",
       "\n",
       "   precipTime  precipDepth  temperature  totalAmount  \n",
       "0        24.0          3.0     6.185714        44.30  \n",
       "1         6.0          0.0     4.571930        44.80  \n",
       "2         1.0          0.0     4.384091        18.96  \n",
       "3        24.0          3.0     6.185714        16.30  \n",
       "4         1.0          0.0     3.846429         5.30  "
      ]
     },
     "execution_count": 2,
     "metadata": {},
     "output_type": "execute_result"
    }
   ],
   "source": [
    "#Reading the CSV file as dataframe\n",
    "df = pd.read_csv(\"nyc-taxi-sample-data.csv\")\n",
    "df.head() #display the first 5 rows of the dataframe"
   ]
  },
  {
   "cell_type": "code",
   "execution_count": 3,
   "metadata": {},
   "outputs": [
    {
     "data": {
      "text/plain": [
       "(11734, 14)"
      ]
     },
     "execution_count": 3,
     "metadata": {},
     "output_type": "execute_result"
    }
   ],
   "source": [
    "#Check the shape (number of rows and columns) of the dataset\n",
    "df.shape"
   ]
  },
  {
   "cell_type": "code",
   "execution_count": 4,
   "metadata": {},
   "outputs": [
    {
     "data": {
      "text/plain": [
       "vendorID                  int64\n",
       "passengerCount            int64\n",
       "tripDistance            float64\n",
       "hour_of_day               int64\n",
       "day_of_week               int64\n",
       "day_of_month              int64\n",
       "month_num                 int64\n",
       "normalizeHolidayName     object\n",
       "isPaidTimeOff              bool\n",
       "snowDepth               float64\n",
       "precipTime              float64\n",
       "precipDepth             float64\n",
       "temperature             float64\n",
       "totalAmount             float64\n",
       "dtype: object"
      ]
     },
     "execution_count": 4,
     "metadata": {},
     "output_type": "execute_result"
    }
   ],
   "source": [
    "#Check the data type of all the variables in the dataset\n",
    "df.dtypes"
   ]
  },
  {
   "cell_type": "markdown",
   "metadata": {},
   "source": [
    "Categorical variables are stored as object and Continuous variables are stored as int or float "
   ]
  },
  {
   "cell_type": "code",
   "execution_count": 5,
   "metadata": {},
   "outputs": [
    {
     "data": {
      "text/plain": [
       "array(['None', 'Martin Luther King, Jr. Day', \"New Year's Day\",\n",
       "       \"Washington's Birthday\", 'Memorial Day'], dtype=object)"
      ]
     },
     "execution_count": 5,
     "metadata": {},
     "output_type": "execute_result"
    }
   ],
   "source": [
    "#Check all the unique values of Categorical Variables\n",
    "df['normalizeHolidayName'].unique()"
   ]
  },
  {
   "cell_type": "code",
   "execution_count": 6,
   "metadata": {},
   "outputs": [],
   "source": [
    "#Since the holiday names aren't of importance we can drop that column\n",
    "#axis=0 indicates row and we have to specify the index\n",
    "#axis=1 indicates column and we have to specify the column names\n",
    "df = df.drop(['normalizeHolidayName'],axis=1)"
   ]
  },
  {
   "cell_type": "code",
   "execution_count": 7,
   "metadata": {},
   "outputs": [
    {
     "data": {
      "text/html": [
       "<div>\n",
       "<style scoped>\n",
       "    .dataframe tbody tr th:only-of-type {\n",
       "        vertical-align: middle;\n",
       "    }\n",
       "\n",
       "    .dataframe tbody tr th {\n",
       "        vertical-align: top;\n",
       "    }\n",
       "\n",
       "    .dataframe thead th {\n",
       "        text-align: right;\n",
       "    }\n",
       "</style>\n",
       "<table border=\"1\" class=\"dataframe\">\n",
       "  <thead>\n",
       "    <tr style=\"text-align: right;\">\n",
       "      <th></th>\n",
       "      <th>vendorID</th>\n",
       "      <th>passengerCount</th>\n",
       "      <th>tripDistance</th>\n",
       "      <th>hour_of_day</th>\n",
       "      <th>day_of_week</th>\n",
       "      <th>day_of_month</th>\n",
       "      <th>month_num</th>\n",
       "      <th>snowDepth</th>\n",
       "      <th>precipTime</th>\n",
       "      <th>precipDepth</th>\n",
       "      <th>temperature</th>\n",
       "      <th>totalAmount</th>\n",
       "    </tr>\n",
       "  </thead>\n",
       "  <tbody>\n",
       "    <tr>\n",
       "      <th>count</th>\n",
       "      <td>11734.000000</td>\n",
       "      <td>11734.000000</td>\n",
       "      <td>11734.000000</td>\n",
       "      <td>11734.000000</td>\n",
       "      <td>11734.000000</td>\n",
       "      <td>11734.000000</td>\n",
       "      <td>11734.000000</td>\n",
       "      <td>11734.000000</td>\n",
       "      <td>11734.000000</td>\n",
       "      <td>11734.000000</td>\n",
       "      <td>11734.000000</td>\n",
       "      <td>11734.000000</td>\n",
       "    </tr>\n",
       "    <tr>\n",
       "      <th>mean</th>\n",
       "      <td>1.790608</td>\n",
       "      <td>1.348560</td>\n",
       "      <td>2.866139</td>\n",
       "      <td>13.633884</td>\n",
       "      <td>3.223879</td>\n",
       "      <td>15.000256</td>\n",
       "      <td>3.502898</td>\n",
       "      <td>1.609015</td>\n",
       "      <td>12.028379</td>\n",
       "      <td>190.782342</td>\n",
       "      <td>10.314244</td>\n",
       "      <td>14.733528</td>\n",
       "    </tr>\n",
       "    <tr>\n",
       "      <th>std</th>\n",
       "      <td>0.406892</td>\n",
       "      <td>1.016123</td>\n",
       "      <td>2.905810</td>\n",
       "      <td>6.670530</td>\n",
       "      <td>1.961855</td>\n",
       "      <td>8.467892</td>\n",
       "      <td>1.707729</td>\n",
       "      <td>7.146771</td>\n",
       "      <td>10.158597</td>\n",
       "      <td>1211.087724</td>\n",
       "      <td>8.500600</td>\n",
       "      <td>10.983099</td>\n",
       "    </tr>\n",
       "    <tr>\n",
       "      <th>min</th>\n",
       "      <td>1.000000</td>\n",
       "      <td>1.000000</td>\n",
       "      <td>0.010000</td>\n",
       "      <td>0.000000</td>\n",
       "      <td>0.000000</td>\n",
       "      <td>1.000000</td>\n",
       "      <td>1.000000</td>\n",
       "      <td>0.000000</td>\n",
       "      <td>1.000000</td>\n",
       "      <td>0.000000</td>\n",
       "      <td>-13.379464</td>\n",
       "      <td>3.300000</td>\n",
       "    </tr>\n",
       "    <tr>\n",
       "      <th>25%</th>\n",
       "      <td>2.000000</td>\n",
       "      <td>1.000000</td>\n",
       "      <td>1.060000</td>\n",
       "      <td>9.000000</td>\n",
       "      <td>2.000000</td>\n",
       "      <td>8.000000</td>\n",
       "      <td>2.000000</td>\n",
       "      <td>0.000000</td>\n",
       "      <td>1.000000</td>\n",
       "      <td>0.000000</td>\n",
       "      <td>3.566372</td>\n",
       "      <td>8.150000</td>\n",
       "    </tr>\n",
       "    <tr>\n",
       "      <th>50%</th>\n",
       "      <td>2.000000</td>\n",
       "      <td>1.000000</td>\n",
       "      <td>1.900000</td>\n",
       "      <td>15.000000</td>\n",
       "      <td>3.000000</td>\n",
       "      <td>15.000000</td>\n",
       "      <td>4.000000</td>\n",
       "      <td>0.000000</td>\n",
       "      <td>6.000000</td>\n",
       "      <td>3.000000</td>\n",
       "      <td>10.318229</td>\n",
       "      <td>11.300000</td>\n",
       "    </tr>\n",
       "    <tr>\n",
       "      <th>75%</th>\n",
       "      <td>2.000000</td>\n",
       "      <td>1.000000</td>\n",
       "      <td>3.620000</td>\n",
       "      <td>19.000000</td>\n",
       "      <td>5.000000</td>\n",
       "      <td>22.000000</td>\n",
       "      <td>5.000000</td>\n",
       "      <td>0.000000</td>\n",
       "      <td>24.000000</td>\n",
       "      <td>41.000000</td>\n",
       "      <td>17.239744</td>\n",
       "      <td>17.800000</td>\n",
       "    </tr>\n",
       "    <tr>\n",
       "      <th>max</th>\n",
       "      <td>2.000000</td>\n",
       "      <td>6.000000</td>\n",
       "      <td>62.550000</td>\n",
       "      <td>23.000000</td>\n",
       "      <td>6.000000</td>\n",
       "      <td>30.000000</td>\n",
       "      <td>6.000000</td>\n",
       "      <td>67.090909</td>\n",
       "      <td>24.000000</td>\n",
       "      <td>9999.000000</td>\n",
       "      <td>26.524107</td>\n",
       "      <td>339.380000</td>\n",
       "    </tr>\n",
       "  </tbody>\n",
       "</table>\n",
       "</div>"
      ],
      "text/plain": [
       "           vendorID  passengerCount  tripDistance   hour_of_day   day_of_week  \\\n",
       "count  11734.000000    11734.000000  11734.000000  11734.000000  11734.000000   \n",
       "mean       1.790608        1.348560      2.866139     13.633884      3.223879   \n",
       "std        0.406892        1.016123      2.905810      6.670530      1.961855   \n",
       "min        1.000000        1.000000      0.010000      0.000000      0.000000   \n",
       "25%        2.000000        1.000000      1.060000      9.000000      2.000000   \n",
       "50%        2.000000        1.000000      1.900000     15.000000      3.000000   \n",
       "75%        2.000000        1.000000      3.620000     19.000000      5.000000   \n",
       "max        2.000000        6.000000     62.550000     23.000000      6.000000   \n",
       "\n",
       "       day_of_month     month_num     snowDepth    precipTime   precipDepth  \\\n",
       "count  11734.000000  11734.000000  11734.000000  11734.000000  11734.000000   \n",
       "mean      15.000256      3.502898      1.609015     12.028379    190.782342   \n",
       "std        8.467892      1.707729      7.146771     10.158597   1211.087724   \n",
       "min        1.000000      1.000000      0.000000      1.000000      0.000000   \n",
       "25%        8.000000      2.000000      0.000000      1.000000      0.000000   \n",
       "50%       15.000000      4.000000      0.000000      6.000000      3.000000   \n",
       "75%       22.000000      5.000000      0.000000     24.000000     41.000000   \n",
       "max       30.000000      6.000000     67.090909     24.000000   9999.000000   \n",
       "\n",
       "        temperature   totalAmount  \n",
       "count  11734.000000  11734.000000  \n",
       "mean      10.314244     14.733528  \n",
       "std        8.500600     10.983099  \n",
       "min      -13.379464      3.300000  \n",
       "25%        3.566372      8.150000  \n",
       "50%       10.318229     11.300000  \n",
       "75%       17.239744     17.800000  \n",
       "max       26.524107    339.380000  "
      ]
     },
     "execution_count": 7,
     "metadata": {},
     "output_type": "execute_result"
    }
   ],
   "source": [
    "#description of continuous variables\n",
    "df.describe()"
   ]
  },
  {
   "cell_type": "markdown",
   "metadata": {},
   "source": [
    "This shows all the statistical values (count, mean, standard deviation etc.) related to the continuous variables present in the dataframe"
   ]
  },
  {
   "cell_type": "markdown",
   "metadata": {},
   "source": [
    "CHECK FOR MISSING VALUES - since the count of all the variables is the same, we can say that there are no missing values in the continuous variables"
   ]
  },
  {
   "cell_type": "code",
   "execution_count": 8,
   "metadata": {},
   "outputs": [
    {
     "data": {
      "text/plain": [
       "0        0\n",
       "1        0\n",
       "2        0\n",
       "3        0\n",
       "4        0\n",
       "        ..\n",
       "11729    0\n",
       "11730    0\n",
       "11731    0\n",
       "11732    0\n",
       "11733    0\n",
       "Name: isPaidTimeOff, Length: 11734, dtype: int64"
      ]
     },
     "execution_count": 8,
     "metadata": {},
     "output_type": "execute_result"
    }
   ],
   "source": [
    "#Map the boolean value into 0 and 1\n",
    "df['isPaidTimeOff'].map({False:0, True:1})"
   ]
  },
  {
   "cell_type": "code",
   "execution_count": 9,
   "metadata": {},
   "outputs": [
    {
     "data": {
      "text/plain": [
       "False    11484\n",
       "True       250\n",
       "Name: isPaidTimeOff, dtype: int64"
      ]
     },
     "execution_count": 9,
     "metadata": {},
     "output_type": "execute_result"
    }
   ],
   "source": [
    "#Check the number of variables in each category\n",
    "df['isPaidTimeOff'].value_counts()"
   ]
  },
  {
   "cell_type": "markdown",
   "metadata": {},
   "source": [
    "250 objects have True for the variable isPaidTimeOff and others have False"
   ]
  },
  {
   "cell_type": "markdown",
   "metadata": {},
   "source": [
    "NOW THE DATA HAS NO MISSING / UNWANTED VALUES AND ALL THE VALUES ARE NUMERICAL"
   ]
  },
  {
   "cell_type": "code",
   "execution_count": 10,
   "metadata": {},
   "outputs": [],
   "source": [
    "#Separate the independent and dependent variables\n",
    "X = df.drop(['totalAmount'],axis=1)\n",
    "Y = df[['totalAmount']]"
   ]
  },
  {
   "cell_type": "code",
   "execution_count": 11,
   "metadata": {},
   "outputs": [],
   "source": [
    "#Split the dataset into train and test dataset\n",
    "#We have a built-in funcion to split the dataset randomly\n",
    "from sklearn.model_selection import train_test_split\n",
    "xtrain, xtest, ytrain, ytest = train_test_split(X,Y,test_size=0.4) #40% of dataset will be test data"
   ]
  },
  {
   "cell_type": "code",
   "execution_count": 12,
   "metadata": {},
   "outputs": [
    {
     "name": "stdout",
     "output_type": "stream",
     "text": [
      "Shape of xtrain:  (7040, 12)\n",
      "Shape of xtest:  (4694, 12)\n",
      "Shape of ytrain:  (7040, 1)\n",
      "Shape of ytest:  (4694, 1)\n"
     ]
    }
   ],
   "source": [
    "#Check the shape of the train and test data\n",
    "print(\"Shape of xtrain: \",xtrain.shape)\n",
    "print(\"Shape of xtest: \",xtest.shape)\n",
    "print(\"Shape of ytrain: \",ytrain.shape)\n",
    "print(\"Shape of ytest: \",ytest.shape)"
   ]
  },
  {
   "cell_type": "markdown",
   "metadata": {},
   "source": [
    "NOW THE DATASET IS DIVIDED INTO TRAIN AND TEST DATA"
   ]
  },
  {
   "cell_type": "markdown",
   "metadata": {},
   "source": [
    "# Build a simple Linear Model"
   ]
  },
  {
   "cell_type": "code",
   "execution_count": 13,
   "metadata": {},
   "outputs": [],
   "source": [
    "#build the model\n",
    "from sklearn.linear_model import LinearRegression #import library\n",
    "lmodel1 = LinearRegression() #create an object"
   ]
  },
  {
   "cell_type": "code",
   "execution_count": 14,
   "metadata": {},
   "outputs": [
    {
     "data": {
      "text/plain": [
       "LinearRegression(copy_X=True, fit_intercept=True, n_jobs=None, normalize=False)"
      ]
     },
     "execution_count": 14,
     "metadata": {},
     "output_type": "execute_result"
    }
   ],
   "source": [
    "#train the model\n",
    "lmodel1.fit(xtrain,ytrain)"
   ]
  },
  {
   "cell_type": "code",
   "execution_count": 15,
   "metadata": {},
   "outputs": [
    {
     "name": "stdout",
     "output_type": "stream",
     "text": [
      "[[ 3.23984201e-02  5.69472739e-02  3.45817482e+00  3.59659144e-02\n",
      "  -7.38333947e-02 -1.16652193e-02 -6.86295560e-02 -7.42303317e-01\n",
      "   1.96102374e-03  4.54809313e-03 -8.37213127e-05  1.70056947e-02]]\n",
      "[4.61661393]\n"
     ]
    }
   ],
   "source": [
    "#to print the coefficients\n",
    "print(lmodel1.coef_) #coefficient/slope\n",
    "print(lmodel1.intercept_) #intercept"
   ]
  },
  {
   "cell_type": "code",
   "execution_count": 18,
   "metadata": {},
   "outputs": [],
   "source": [
    "#make predictions\n",
    "Yp = lmodel1.predict(xtest)"
   ]
  },
  {
   "cell_type": "code",
   "execution_count": 19,
   "metadata": {},
   "outputs": [
    {
     "name": "stdout",
     "output_type": "stream",
     "text": [
      "2.1845280573686954\n"
     ]
    }
   ],
   "source": [
    "#to calculate the mean absolute error\n",
    "from sklearn.metrics import mean_absolute_error\n",
    "mean1 = mean_absolute_error(ytest,Yp)\n",
    "print(mean1)"
   ]
  },
  {
   "cell_type": "code",
   "execution_count": 20,
   "metadata": {},
   "outputs": [
    {
     "name": "stdout",
     "output_type": "stream",
     "text": [
      "0.8545994831880224\n"
     ]
    }
   ],
   "source": [
    "#calculate the r-squared metric\n",
    "from sklearn.metrics import r2_score\n",
    "r2score = r2_score(ytest,Yp)\n",
    "print(r2score)"
   ]
  },
  {
   "cell_type": "markdown",
   "metadata": {},
   "source": [
    "Since the r-squared value is near to 1 we can say that the model is able to capture all variance in the dependent variable."
   ]
  }
 ],
 "metadata": {
  "kernelspec": {
   "display_name": "Python 3",
   "language": "python",
   "name": "python3"
  },
  "language_info": {
   "codemirror_mode": {
    "name": "ipython",
    "version": 3
   },
   "file_extension": ".py",
   "mimetype": "text/x-python",
   "name": "python",
   "nbconvert_exporter": "python",
   "pygments_lexer": "ipython3",
   "version": "3.7.7"
  }
 },
 "nbformat": 4,
 "nbformat_minor": 4
}
