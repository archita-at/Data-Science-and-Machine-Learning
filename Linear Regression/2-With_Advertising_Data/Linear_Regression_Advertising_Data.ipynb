{
 "cells": [
  {
   "cell_type": "markdown",
   "metadata": {},
   "source": [
    "# Linear Regression"
   ]
  },
  {
   "cell_type": "markdown",
   "metadata": {},
   "source": [
    "Import required libraries\n",
    "    pandas - to work with data from csv file\n",
    "    numpy - to work with array\n",
    "    matplotlib - visualization of the data"
   ]
  },
  {
   "cell_type": "code",
   "execution_count": 1,
   "metadata": {},
   "outputs": [],
   "source": [
    "import pandas as pd\n",
    "import numpy as np\n",
    "import matplotlib.pyplot as plt"
   ]
  },
  {
   "cell_type": "code",
   "execution_count": 2,
   "metadata": {},
   "outputs": [
    {
     "data": {
      "text/html": [
       "<div>\n",
       "<style scoped>\n",
       "    .dataframe tbody tr th:only-of-type {\n",
       "        vertical-align: middle;\n",
       "    }\n",
       "\n",
       "    .dataframe tbody tr th {\n",
       "        vertical-align: top;\n",
       "    }\n",
       "\n",
       "    .dataframe thead th {\n",
       "        text-align: right;\n",
       "    }\n",
       "</style>\n",
       "<table border=\"1\" class=\"dataframe\">\n",
       "  <thead>\n",
       "    <tr style=\"text-align: right;\">\n",
       "      <th></th>\n",
       "      <th>Unnamed: 0</th>\n",
       "      <th>TV</th>\n",
       "      <th>radio</th>\n",
       "      <th>newspaper</th>\n",
       "      <th>sales</th>\n",
       "    </tr>\n",
       "  </thead>\n",
       "  <tbody>\n",
       "    <tr>\n",
       "      <th>0</th>\n",
       "      <td>1</td>\n",
       "      <td>230.1</td>\n",
       "      <td>37.8</td>\n",
       "      <td>69.2</td>\n",
       "      <td>22.1</td>\n",
       "    </tr>\n",
       "    <tr>\n",
       "      <th>1</th>\n",
       "      <td>2</td>\n",
       "      <td>44.5</td>\n",
       "      <td>39.3</td>\n",
       "      <td>45.1</td>\n",
       "      <td>10.4</td>\n",
       "    </tr>\n",
       "    <tr>\n",
       "      <th>2</th>\n",
       "      <td>3</td>\n",
       "      <td>17.2</td>\n",
       "      <td>45.9</td>\n",
       "      <td>69.3</td>\n",
       "      <td>9.3</td>\n",
       "    </tr>\n",
       "    <tr>\n",
       "      <th>3</th>\n",
       "      <td>4</td>\n",
       "      <td>151.5</td>\n",
       "      <td>41.3</td>\n",
       "      <td>58.5</td>\n",
       "      <td>18.5</td>\n",
       "    </tr>\n",
       "    <tr>\n",
       "      <th>4</th>\n",
       "      <td>5</td>\n",
       "      <td>180.8</td>\n",
       "      <td>10.8</td>\n",
       "      <td>58.4</td>\n",
       "      <td>12.9</td>\n",
       "    </tr>\n",
       "  </tbody>\n",
       "</table>\n",
       "</div>"
      ],
      "text/plain": [
       "   Unnamed: 0     TV  radio  newspaper  sales\n",
       "0           1  230.1   37.8       69.2   22.1\n",
       "1           2   44.5   39.3       45.1   10.4\n",
       "2           3   17.2   45.9       69.3    9.3\n",
       "3           4  151.5   41.3       58.5   18.5\n",
       "4           5  180.8   10.8       58.4   12.9"
      ]
     },
     "execution_count": 2,
     "metadata": {},
     "output_type": "execute_result"
    }
   ],
   "source": [
    "#Reading the CSV file as dataframe\n",
    "df = pd.read_csv(\"Advertising.csv\")\n",
    "df.head() #display the first 5 rows of the dataframe"
   ]
  },
  {
   "cell_type": "markdown",
   "metadata": {},
   "source": [
    "TV, radio and newspaper - independent variables (input variables)\n",
    "Sales - dependent variables (output variable)"
   ]
  },
  {
   "cell_type": "markdown",
   "metadata": {},
   "source": [
    "# Considering single input - TV"
   ]
  },
  {
   "cell_type": "markdown",
   "metadata": {},
   "source": [
    "First we will try to generate the equation of line without the use of any libraries"
   ]
  },
  {
   "cell_type": "code",
   "execution_count": 3,
   "metadata": {},
   "outputs": [
    {
     "data": {
      "text/plain": [
       "0      230.1\n",
       "1       44.5\n",
       "2       17.2\n",
       "3      151.5\n",
       "4      180.8\n",
       "       ...  \n",
       "195     38.2\n",
       "196     94.2\n",
       "197    177.0\n",
       "198    283.6\n",
       "199    232.1\n",
       "Name: TV, Length: 200, dtype: float64"
      ]
     },
     "execution_count": 3,
     "metadata": {},
     "output_type": "execute_result"
    }
   ],
   "source": [
    "df['TV'] #returns the columns values in float"
   ]
  },
  {
   "cell_type": "code",
   "execution_count": 4,
   "metadata": {},
   "outputs": [
    {
     "data": {
      "text/html": [
       "<div>\n",
       "<style scoped>\n",
       "    .dataframe tbody tr th:only-of-type {\n",
       "        vertical-align: middle;\n",
       "    }\n",
       "\n",
       "    .dataframe tbody tr th {\n",
       "        vertical-align: top;\n",
       "    }\n",
       "\n",
       "    .dataframe thead th {\n",
       "        text-align: right;\n",
       "    }\n",
       "</style>\n",
       "<table border=\"1\" class=\"dataframe\">\n",
       "  <thead>\n",
       "    <tr style=\"text-align: right;\">\n",
       "      <th></th>\n",
       "      <th>TV</th>\n",
       "    </tr>\n",
       "  </thead>\n",
       "  <tbody>\n",
       "    <tr>\n",
       "      <th>0</th>\n",
       "      <td>230.1</td>\n",
       "    </tr>\n",
       "    <tr>\n",
       "      <th>1</th>\n",
       "      <td>44.5</td>\n",
       "    </tr>\n",
       "    <tr>\n",
       "      <th>2</th>\n",
       "      <td>17.2</td>\n",
       "    </tr>\n",
       "    <tr>\n",
       "      <th>3</th>\n",
       "      <td>151.5</td>\n",
       "    </tr>\n",
       "    <tr>\n",
       "      <th>4</th>\n",
       "      <td>180.8</td>\n",
       "    </tr>\n",
       "    <tr>\n",
       "      <th>...</th>\n",
       "      <td>...</td>\n",
       "    </tr>\n",
       "    <tr>\n",
       "      <th>195</th>\n",
       "      <td>38.2</td>\n",
       "    </tr>\n",
       "    <tr>\n",
       "      <th>196</th>\n",
       "      <td>94.2</td>\n",
       "    </tr>\n",
       "    <tr>\n",
       "      <th>197</th>\n",
       "      <td>177.0</td>\n",
       "    </tr>\n",
       "    <tr>\n",
       "      <th>198</th>\n",
       "      <td>283.6</td>\n",
       "    </tr>\n",
       "    <tr>\n",
       "      <th>199</th>\n",
       "      <td>232.1</td>\n",
       "    </tr>\n",
       "  </tbody>\n",
       "</table>\n",
       "<p>200 rows × 1 columns</p>\n",
       "</div>"
      ],
      "text/plain": [
       "        TV\n",
       "0    230.1\n",
       "1     44.5\n",
       "2     17.2\n",
       "3    151.5\n",
       "4    180.8\n",
       "..     ...\n",
       "195   38.2\n",
       "196   94.2\n",
       "197  177.0\n",
       "198  283.6\n",
       "199  232.1\n",
       "\n",
       "[200 rows x 1 columns]"
      ]
     },
     "execution_count": 4,
     "metadata": {},
     "output_type": "execute_result"
    }
   ],
   "source": [
    "df[['TV']] #returns a dataframe"
   ]
  },
  {
   "cell_type": "code",
   "execution_count": 5,
   "metadata": {},
   "outputs": [
    {
     "data": {
      "text/plain": [
       "array([[230.1],\n",
       "       [ 44.5],\n",
       "       [ 17.2],\n",
       "       [151.5],\n",
       "       [180.8],\n",
       "       [  8.7],\n",
       "       [ 57.5],\n",
       "       [120.2],\n",
       "       [  8.6],\n",
       "       [199.8],\n",
       "       [ 66.1],\n",
       "       [214.7],\n",
       "       [ 23.8],\n",
       "       [ 97.5],\n",
       "       [204.1],\n",
       "       [195.4],\n",
       "       [ 67.8],\n",
       "       [281.4],\n",
       "       [ 69.2],\n",
       "       [147.3],\n",
       "       [218.4],\n",
       "       [237.4],\n",
       "       [ 13.2],\n",
       "       [228.3],\n",
       "       [ 62.3],\n",
       "       [262.9],\n",
       "       [142.9],\n",
       "       [240.1],\n",
       "       [248.8],\n",
       "       [ 70.6],\n",
       "       [292.9],\n",
       "       [112.9],\n",
       "       [ 97.2],\n",
       "       [265.6],\n",
       "       [ 95.7],\n",
       "       [290.7],\n",
       "       [266.9],\n",
       "       [ 74.7],\n",
       "       [ 43.1],\n",
       "       [228. ],\n",
       "       [202.5],\n",
       "       [177. ],\n",
       "       [293.6],\n",
       "       [206.9],\n",
       "       [ 25.1],\n",
       "       [175.1],\n",
       "       [ 89.7],\n",
       "       [239.9],\n",
       "       [227.2],\n",
       "       [ 66.9],\n",
       "       [199.8],\n",
       "       [100.4],\n",
       "       [216.4],\n",
       "       [182.6],\n",
       "       [262.7],\n",
       "       [198.9],\n",
       "       [  7.3],\n",
       "       [136.2],\n",
       "       [210.8],\n",
       "       [210.7],\n",
       "       [ 53.5],\n",
       "       [261.3],\n",
       "       [239.3],\n",
       "       [102.7],\n",
       "       [131.1],\n",
       "       [ 69. ],\n",
       "       [ 31.5],\n",
       "       [139.3],\n",
       "       [237.4],\n",
       "       [216.8],\n",
       "       [199.1],\n",
       "       [109.8],\n",
       "       [ 26.8],\n",
       "       [129.4],\n",
       "       [213.4],\n",
       "       [ 16.9],\n",
       "       [ 27.5],\n",
       "       [120.5],\n",
       "       [  5.4],\n",
       "       [116. ],\n",
       "       [ 76.4],\n",
       "       [239.8],\n",
       "       [ 75.3],\n",
       "       [ 68.4],\n",
       "       [213.5],\n",
       "       [193.2],\n",
       "       [ 76.3],\n",
       "       [110.7],\n",
       "       [ 88.3],\n",
       "       [109.8],\n",
       "       [134.3],\n",
       "       [ 28.6],\n",
       "       [217.7],\n",
       "       [250.9],\n",
       "       [107.4],\n",
       "       [163.3],\n",
       "       [197.6],\n",
       "       [184.9],\n",
       "       [289.7],\n",
       "       [135.2],\n",
       "       [222.4],\n",
       "       [296.4],\n",
       "       [280.2],\n",
       "       [187.9],\n",
       "       [238.2],\n",
       "       [137.9],\n",
       "       [ 25. ],\n",
       "       [ 90.4],\n",
       "       [ 13.1],\n",
       "       [255.4],\n",
       "       [225.8],\n",
       "       [241.7],\n",
       "       [175.7],\n",
       "       [209.6],\n",
       "       [ 78.2],\n",
       "       [ 75.1],\n",
       "       [139.2],\n",
       "       [ 76.4],\n",
       "       [125.7],\n",
       "       [ 19.4],\n",
       "       [141.3],\n",
       "       [ 18.8],\n",
       "       [224. ],\n",
       "       [123.1],\n",
       "       [229.5],\n",
       "       [ 87.2],\n",
       "       [  7.8],\n",
       "       [ 80.2],\n",
       "       [220.3],\n",
       "       [ 59.6],\n",
       "       [  0.7],\n",
       "       [265.2],\n",
       "       [  8.4],\n",
       "       [219.8],\n",
       "       [ 36.9],\n",
       "       [ 48.3],\n",
       "       [ 25.6],\n",
       "       [273.7],\n",
       "       [ 43. ],\n",
       "       [184.9],\n",
       "       [ 73.4],\n",
       "       [193.7],\n",
       "       [220.5],\n",
       "       [104.6],\n",
       "       [ 96.2],\n",
       "       [140.3],\n",
       "       [240.1],\n",
       "       [243.2],\n",
       "       [ 38. ],\n",
       "       [ 44.7],\n",
       "       [280.7],\n",
       "       [121. ],\n",
       "       [197.6],\n",
       "       [171.3],\n",
       "       [187.8],\n",
       "       [  4.1],\n",
       "       [ 93.9],\n",
       "       [149.8],\n",
       "       [ 11.7],\n",
       "       [131.7],\n",
       "       [172.5],\n",
       "       [ 85.7],\n",
       "       [188.4],\n",
       "       [163.5],\n",
       "       [117.2],\n",
       "       [234.5],\n",
       "       [ 17.9],\n",
       "       [206.8],\n",
       "       [215.4],\n",
       "       [284.3],\n",
       "       [ 50. ],\n",
       "       [164.5],\n",
       "       [ 19.6],\n",
       "       [168.4],\n",
       "       [222.4],\n",
       "       [276.9],\n",
       "       [248.4],\n",
       "       [170.2],\n",
       "       [276.7],\n",
       "       [165.6],\n",
       "       [156.6],\n",
       "       [218.5],\n",
       "       [ 56.2],\n",
       "       [287.6],\n",
       "       [253.8],\n",
       "       [205. ],\n",
       "       [139.5],\n",
       "       [191.1],\n",
       "       [286. ],\n",
       "       [ 18.7],\n",
       "       [ 39.5],\n",
       "       [ 75.5],\n",
       "       [ 17.2],\n",
       "       [166.8],\n",
       "       [149.7],\n",
       "       [ 38.2],\n",
       "       [ 94.2],\n",
       "       [177. ],\n",
       "       [283.6],\n",
       "       [232.1]])"
      ]
     },
     "execution_count": 5,
     "metadata": {},
     "output_type": "execute_result"
    }
   ],
   "source": [
    "df[['TV']].values #converts the dataframe into a numpy array"
   ]
  },
  {
   "cell_type": "markdown",
   "metadata": {},
   "source": [
    "Value-by-value multiplication is not possible in pandas dataframe\n",
    "So we need to convert it into a numpy array"
   ]
  },
  {
   "cell_type": "code",
   "execution_count": 6,
   "metadata": {},
   "outputs": [],
   "source": [
    "X = df[['TV']].values #array of dependent variable\n",
    "Y = df[['sales']].values #array of independent variable"
   ]
  },
  {
   "cell_type": "code",
   "execution_count": 7,
   "metadata": {},
   "outputs": [
    {
     "data": {
      "image/png": "[encoded data removed]",
      "text/plain": [
       "<Figure size 432x288 with 1 Axes>"
      ]
     },
     "metadata": {
      "needs_background": "light"
     },
     "output_type": "display_data"
    }
   ],
   "source": [
    "#Let us visualize the data first\n",
    "plt.scatter(X,Y) #plot a scatter plot\n",
    "plt.xlabel(\"TV\") #set label of x-axis\n",
    "plt.ylabel(\"Sales\") #set label of y-axis\n",
    "plt.title(\"Advertising Data\") #set title of the plot\n",
    "plt.show()"
   ]
  },
  {
   "cell_type": "markdown",
   "metadata": {},
   "source": [
    "Data seems to be very related - as the values of spendings on TV increase, so does the sales"
   ]
  },
  {
   "cell_type": "code",
   "execution_count": 8,
   "metadata": {},
   "outputs": [
    {
     "name": "stdout",
     "output_type": "stream",
     "text": [
      "147.0425 14.0225\n"
     ]
    }
   ],
   "source": [
    "#Generate the mean of both input and output\n",
    "x_mean = X.mean()\n",
    "y_mean = Y.mean()\n",
    "print(x_mean,y_mean)"
   ]
  },
  {
   "cell_type": "code",
   "execution_count": 9,
   "metadata": {},
   "outputs": [
    {
     "name": "stdout",
     "output_type": "stream",
     "text": [
      "0.047536640433019736\n",
      "7.0325935491276965\n"
     ]
    }
   ],
   "source": [
    "#Find the intercept and slope of the line\n",
    "num = ((X-x_mean)*(Y-y_mean)).sum() #numerator\n",
    "den = ((X-x_mean)**2).sum() #denominator\n",
    "m = num/den #slope\n",
    "c = y_mean - m*x_mean #intercept\n",
    "print(m)\n",
    "print(c)"
   ]
  },
  {
   "cell_type": "code",
   "execution_count": 10,
   "metadata": {},
   "outputs": [],
   "source": [
    "#Generating the best fit line using the m and c found and plotting it\n",
    "Yp = m*X + c"
   ]
  },
  {
   "cell_type": "code",
   "execution_count": 11,
   "metadata": {},
   "outputs": [
    {
     "data": {
      "image/png": "[encoded data removed]",
      "text/plain": [
       "<Figure size 432x288 with 1 Axes>"
      ]
     },
     "metadata": {
      "needs_background": "light"
     },
     "output_type": "display_data"
    }
   ],
   "source": [
    "#Visualize the best fit line generated along with the data\n",
    "plt.plot(X,Yp,c='r') #best fit line\n",
    "plt.scatter(X,Y) #data\n",
    "plt.title(\"Data and Best Fit Line generated\")\n",
    "plt.show()"
   ]
  },
  {
   "cell_type": "code",
   "execution_count": 12,
   "metadata": {},
   "outputs": [
    {
     "data": {
      "text/plain": [
       "array([[22.1       , 17.97077451],\n",
       "       [10.4       ,  9.14797405],\n",
       "       [ 9.3       ,  7.85022376],\n",
       "       [18.5       , 14.23439457],\n",
       "       [12.9       , 15.62721814],\n",
       "       [ 7.2       ,  7.44616232],\n",
       "       [11.8       ,  9.76595037],\n",
       "       [13.2       , 12.74649773],\n",
       "       [ 4.8       ,  7.44140866],\n",
       "       [10.6       , 16.53041431],\n",
       "       [ 8.6       , 10.17476548],\n",
       "       [17.4       , 17.23871025],\n",
       "       [ 9.2       ,  8.16396559],\n",
       "       [ 9.7       , 11.66741599],\n",
       "       [19.        , 16.73482186],\n",
       "       [22.4       , 16.32125309],\n",
       "       [12.5       , 10.25557777],\n",
       "       [24.4       , 20.40940417],\n",
       "       [11.3       , 10.32212907],\n",
       "       [14.6       , 14.03474068],\n",
       "       [18.        , 17.41459582],\n",
       "       [12.5       , 18.31779199],\n",
       "       [ 5.6       ,  7.6600772 ],\n",
       "       [15.5       , 17.88520856],\n",
       "       [ 9.7       ,  9.99412625],\n",
       "       [12.        , 19.52997632],\n",
       "       [15.        , 13.82557947],\n",
       "       [15.9       , 18.44614092],\n",
       "       [18.9       , 18.85970969],\n",
       "       [10.5       , 10.38868036],\n",
       "       [21.4       , 20.95607553],\n",
       "       [11.9       , 12.39948025],\n",
       "       [ 9.6       , 11.653155  ],\n",
       "       [17.4       , 19.65832525],\n",
       "       [ 9.5       , 11.58185004],\n",
       "       [12.8       , 20.85149492],\n",
       "       [25.4       , 19.72012288],\n",
       "       [14.7       , 10.58358059],\n",
       "       [10.1       ,  9.08142275],\n",
       "       [21.5       , 17.87094757],\n",
       "       [16.6       , 16.65876324],\n",
       "       [17.1       , 15.44657891],\n",
       "       [20.7       , 20.98935118],\n",
       "       [12.9       , 16.86792445],\n",
       "       [ 8.5       ,  8.22576322],\n",
       "       [14.9       , 15.35625929],\n",
       "       [10.6       , 11.2966302 ],\n",
       "       [23.2       , 18.43663359],\n",
       "       [14.8       , 17.83291826],\n",
       "       [ 9.7       , 10.21279479],\n",
       "       [11.4       , 16.53041431],\n",
       "       [10.7       , 11.80527225],\n",
       "       [22.6       , 17.31952254],\n",
       "       [21.2       , 15.71278409],\n",
       "       [20.2       , 19.52046899],\n",
       "       [23.7       , 16.48763133],\n",
       "       [ 5.5       ,  7.37961102],\n",
       "       [13.2       , 13.50708398],\n",
       "       [23.8       , 17.05331735],\n",
       "       [18.4       , 17.04856369],\n",
       "       [ 8.1       ,  9.57580381],\n",
       "       [24.2       , 19.45391769],\n",
       "       [15.7       , 18.4081116 ],\n",
       "       [14.        , 11.91460652],\n",
       "       [18.        , 13.26464711],\n",
       "       [ 9.3       , 10.31262174],\n",
       "       [ 9.5       ,  8.52999772],\n",
       "       [13.4       , 13.65444756],\n",
       "       [18.9       , 18.31779199],\n",
       "       [22.3       , 17.3385372 ],\n",
       "       [18.3       , 16.49713866],\n",
       "       [12.4       , 12.25211667],\n",
       "       [ 8.8       ,  8.30657551],\n",
       "       [11.        , 13.18383482],\n",
       "       [17.        , 17.17691262],\n",
       "       [ 8.7       ,  7.83596277],\n",
       "       [ 6.9       ,  8.33985116],\n",
       "       [14.2       , 12.76075872],\n",
       "       [ 5.3       ,  7.28929141],\n",
       "       [11.        , 12.54684384],\n",
       "       [11.8       , 10.66439288],\n",
       "       [12.3       , 18.43187992],\n",
       "       [11.3       , 10.61210257],\n",
       "       [13.6       , 10.28409975],\n",
       "       [21.7       , 17.18166628],\n",
       "       [15.2       , 16.21667248],\n",
       "       [12.        , 10.65963921],\n",
       "       [16.        , 12.29489965],\n",
       "       [12.9       , 11.2300789 ],\n",
       "       [16.7       , 12.25211667],\n",
       "       [11.2       , 13.41676436],\n",
       "       [ 7.3       ,  8.39214147],\n",
       "       [19.4       , 17.38132017],\n",
       "       [22.2       , 18.95953663],\n",
       "       [11.5       , 12.13802873],\n",
       "       [16.9       , 14.79532693],\n",
       "       [11.7       , 16.4258337 ],\n",
       "       [15.5       , 15.82211837],\n",
       "       [25.4       , 20.80395828],\n",
       "       [17.2       , 13.45954734],\n",
       "       [11.7       , 17.60474238],\n",
       "       [23.8       , 21.12245377],\n",
       "       [14.8       , 20.3523602 ],\n",
       "       [14.7       , 15.96472829],\n",
       "       [20.7       , 18.3558213 ],\n",
       "       [19.2       , 13.58789626],\n",
       "       [ 7.2       ,  8.22100956],\n",
       "       [ 8.7       , 11.32990584],\n",
       "       [ 5.3       ,  7.65532354],\n",
       "       [19.8       , 19.17345152],\n",
       "       [13.4       , 17.76636696],\n",
       "       [21.8       , 18.52219954],\n",
       "       [14.1       , 15.38478127],\n",
       "       [15.9       , 16.99627338],\n",
       "       [14.6       , 10.74995883],\n",
       "       [12.6       , 10.60259525],\n",
       "       [12.2       , 13.6496939 ],\n",
       "       [ 9.4       , 10.66439288],\n",
       "       [15.9       , 13.00794925],\n",
       "       [ 6.6       ,  7.95480437],\n",
       "       [15.5       , 13.74952084],\n",
       "       [ 7.        ,  7.92628239],\n",
       "       [11.6       , 17.68080101],\n",
       "       [15.2       , 12.88435399],\n",
       "       [19.7       , 17.94225253],\n",
       "       [10.6       , 11.17778859],\n",
       "       [ 6.6       ,  7.40337934],\n",
       "       [ 8.8       , 10.84503211],\n",
       "       [24.7       , 17.50491544],\n",
       "       [ 9.7       ,  9.86577732],\n",
       "       [ 1.6       ,  7.0658692 ],\n",
       "       [12.7       , 19.63931059],\n",
       "       [ 5.7       ,  7.43190133],\n",
       "       [19.6       , 17.48114712],\n",
       "       [10.8       ,  8.78669558],\n",
       "       [11.6       ,  9.32861328],\n",
       "       [ 9.5       ,  8.24953154],\n",
       "       [20.8       , 20.04337204],\n",
       "       [ 9.6       ,  9.07666909],\n",
       "       [20.7       , 15.82211837],\n",
       "       [10.9       , 10.52178296],\n",
       "       [19.2       , 16.2404408 ],\n",
       "       [20.1       , 17.51442276],\n",
       "       [10.4       , 12.00492614],\n",
       "       [11.4       , 11.60561836],\n",
       "       [10.3       , 13.7019842 ],\n",
       "       [13.2       , 18.44614092],\n",
       "       [25.4       , 18.5935045 ],\n",
       "       [10.9       ,  8.83898589],\n",
       "       [10.1       ,  9.15748138],\n",
       "       [16.1       , 20.37612852],\n",
       "       [11.6       , 12.78452704],\n",
       "       [16.6       , 16.4258337 ],\n",
       "       [19.        , 15.17562006],\n",
       "       [15.6       , 15.95997462],\n",
       "       [ 3.2       ,  7.22749377],\n",
       "       [15.3       , 11.49628409],\n",
       "       [10.1       , 14.15358229],\n",
       "       [ 7.3       ,  7.58877224],\n",
       "       [12.9       , 13.29316909],\n",
       "       [14.4       , 15.23266402],\n",
       "       [13.3       , 11.10648363],\n",
       "       [14.9       , 15.98849661],\n",
       "       [18.        , 14.80483426],\n",
       "       [11.9       , 12.60388781],\n",
       "       [11.9       , 18.17993573],\n",
       "       [ 8.        ,  7.88349941],\n",
       "       [12.2       , 16.86317079],\n",
       "       [17.1       , 17.2719859 ],\n",
       "       [15.        , 20.54726042],\n",
       "       [ 8.4       ,  9.40942557],\n",
       "       [14.5       , 14.8523709 ],\n",
       "       [ 7.6       ,  7.9643117 ],\n",
       "       [11.7       , 15.0377638 ],\n",
       "       [11.5       , 17.60474238],\n",
       "       [27.        , 20.19548929],\n",
       "       [20.2       , 18.84069503],\n",
       "       [11.7       , 15.12332975],\n",
       "       [11.8       , 20.18598196],\n",
       "       [12.6       , 14.9046612 ],\n",
       "       [10.5       , 14.47683144],\n",
       "       [12.2       , 17.41934948],\n",
       "       [ 8.7       ,  9.70415274],\n",
       "       [26.2       , 20.70413134],\n",
       "       [17.6       , 19.09739289],\n",
       "       [22.6       , 16.77760484],\n",
       "       [10.3       , 13.66395489],\n",
       "       [17.3       , 16.11684554],\n",
       "       [15.9       , 20.62807271],\n",
       "       [ 6.7       ,  7.92152873],\n",
       "       [10.8       ,  8.91029085],\n",
       "       [ 9.9       , 10.6216099 ],\n",
       "       [ 5.9       ,  7.85022376],\n",
       "       [19.6       , 14.96170517],\n",
       "       [17.3       , 14.14882862],\n",
       "       [ 7.6       ,  8.84849321],\n",
       "       [ 9.7       , 11.51054508],\n",
       "       [12.8       , 15.44657891],\n",
       "       [25.5       , 20.51398478],\n",
       "       [13.4       , 18.06584779]])"
      ]
     },
     "execution_count": 12,
     "metadata": {},
     "output_type": "execute_result"
    }
   ],
   "source": [
    "#to see the difference between Y and predicted value of Y\n",
    "np.hstack((Y,Yp))"
   ]
  },
  {
   "cell_type": "code",
   "execution_count": 13,
   "metadata": {},
   "outputs": [
    {
     "data": {
      "text/plain": [
       "2.549806038927486"
      ]
     },
     "execution_count": 13,
     "metadata": {},
     "output_type": "execute_result"
    }
   ],
   "source": [
    "#error value\n",
    "np.abs(Y - Yp).mean()"
   ]
  },
  {
   "cell_type": "markdown",
   "metadata": {},
   "source": [
    "Now we will generate the best fit line using scikit-learn library"
   ]
  },
  {
   "cell_type": "code",
   "execution_count": 14,
   "metadata": {},
   "outputs": [],
   "source": [
    "#build the model\n",
    "from sklearn.linear_model import LinearRegression #import library\n",
    "lmodel1 = LinearRegression() #create an object"
   ]
  },
  {
   "cell_type": "code",
   "execution_count": 15,
   "metadata": {},
   "outputs": [
    {
     "data": {
      "text/plain": [
       "LinearRegression(copy_X=True, fit_intercept=True, n_jobs=None, normalize=False)"
      ]
     },
     "execution_count": 15,
     "metadata": {},
     "output_type": "execute_result"
    }
   ],
   "source": [
    "#train the model\n",
    "lmodel1.fit(X,Y)"
   ]
  },
  {
   "cell_type": "code",
   "execution_count": 16,
   "metadata": {},
   "outputs": [
    {
     "name": "stdout",
     "output_type": "stream",
     "text": [
      "[[0.04753664]]\n",
      "[7.03259355]\n"
     ]
    }
   ],
   "source": [
    "#to print the coefficients\n",
    "print(lmodel1.coef_) #coefficient/slope\n",
    "print(lmodel1.intercept_) #intercept"
   ]
  },
  {
   "cell_type": "code",
   "execution_count": 17,
   "metadata": {},
   "outputs": [],
   "source": [
    "#make predictions\n",
    "Yp = lmodel1.predict(X)"
   ]
  },
  {
   "cell_type": "code",
   "execution_count": 18,
   "metadata": {},
   "outputs": [
    {
     "name": "stdout",
     "output_type": "stream",
     "text": [
      "2.549806038927486\n"
     ]
    }
   ],
   "source": [
    "#to calculate the mean absolute error\n",
    "from sklearn.metrics import mean_absolute_error\n",
    "mean1 = mean_absolute_error(Y,Yp)\n",
    "print(mean1)"
   ]
  },
  {
   "cell_type": "markdown",
   "metadata": {},
   "source": [
    "We can see that the slope, intercept and the error generated both ways are the same."
   ]
  },
  {
   "cell_type": "code",
   "execution_count": 19,
   "metadata": {},
   "outputs": [
    {
     "data": {
      "text/plain": [
       "array([[9.71841373]])"
      ]
     },
     "execution_count": 19,
     "metadata": {},
     "output_type": "execute_result"
    }
   ],
   "source": [
    "#make predictions on the model\n",
    "#if the company spends 56.5 on TV we can find the sales value with the model generated\n",
    "lmodel1.predict([[56.5]]) #uses the coefficients generated before"
   ]
  },
  {
   "cell_type": "markdown",
   "metadata": {},
   "source": [
    "This shows that if we spend 56.5 on TV, the sales value will be around 9.72"
   ]
  },
  {
   "cell_type": "markdown",
   "metadata": {},
   "source": [
    "# Considering 2 inputs - TV and Radio"
   ]
  },
  {
   "cell_type": "markdown",
   "metadata": {},
   "source": [
    "We are trying to fit a plane to the data points"
   ]
  },
  {
   "cell_type": "code",
   "execution_count": 20,
   "metadata": {},
   "outputs": [
    {
     "name": "stdout",
     "output_type": "stream",
     "text": [
      "Coefficients:  [[0.04575482 0.18799423]]\n",
      "Intercept:  [2.92109991]\n",
      "Error:  1.2537471644234004\n"
     ]
    }
   ],
   "source": [
    "X = df[['TV','radio']] #independent variable\n",
    "Y = df[['sales']] #dependent variable\n",
    "lmodel2 = LinearRegression() #Create an object\n",
    "lmodel2.fit(X,Y) #train the model\n",
    "Yp = lmodel2.predict(X) #generate predictions\n",
    "print(\"Coefficients: \",lmodel2.coef_) #coefficient/slope\n",
    "print(\"Intercept: \",lmodel2.intercept_) #intercept\n",
    "mean2 = mean_absolute_error(Y,Yp) #mean absolute error\n",
    "print(\"Error: \",mean2)"
   ]
  },
  {
   "cell_type": "markdown",
   "metadata": {},
   "source": [
    "We can see the two different coefficients for the two different inputs\n",
    "So, the first coefficient is for TV and second for Radio"
   ]
  },
  {
   "cell_type": "code",
   "execution_count": 21,
   "metadata": {},
   "outputs": [
    {
     "name": "stdout",
     "output_type": "stream",
     "text": [
      "Error with single input (TV):  2.549806038927486\n",
      "Error with 2 inputs (TV and radio):  1.2537471644234004\n"
     ]
    }
   ],
   "source": [
    "#Comparing the errors of the two cases\n",
    "print(\"Error with single input (TV): \",mean1)\n",
    "print(\"Error with 2 inputs (TV and radio): \",mean2)"
   ]
  },
  {
   "cell_type": "markdown",
   "metadata": {},
   "source": [
    "We can see clearly that the mean absolute error is almost half when we conider radio also."
   ]
  },
  {
   "cell_type": "markdown",
   "metadata": {},
   "source": [
    "# Considering 3 inputs - TV, Radio and Newspaper"
   ]
  },
  {
   "cell_type": "code",
   "execution_count": 22,
   "metadata": {},
   "outputs": [
    {
     "name": "stdout",
     "output_type": "stream",
     "text": [
      "Coefficients:  [[ 0.04576465  0.18853002 -0.00103749]]\n",
      "Intercept:  [2.93888937]\n",
      "Error:  1.2520112296870682\n"
     ]
    }
   ],
   "source": [
    "X = df[['TV','radio','newspaper']] #independent variable\n",
    "Y = df[['sales']] #dependent variable\n",
    "lmodel3 = LinearRegression() #generate linear regression model/object\n",
    "lmodel3.fit(X,Y) #fit/train the model\n",
    "Yp = lmodel3.predict(X) #predict results using the trained model\n",
    "print(\"Coefficients: \",lmodel3.coef_) #coefficient/slope\n",
    "print(\"Intercept: \",lmodel3.intercept_) #intercept\n",
    "mean3 = mean_absolute_error(Y,Yp) #mean absolute error\n",
    "print(\"Error: \",mean3)"
   ]
  },
  {
   "cell_type": "markdown",
   "metadata": {},
   "source": [
    "We can see the coefficient for newspaper is negative"
   ]
  },
  {
   "cell_type": "code",
   "execution_count": 23,
   "metadata": {},
   "outputs": [
    {
     "name": "stdout",
     "output_type": "stream",
     "text": [
      "Error with TV -  2.549806038927486\n",
      "Error with TV and radio -  1.2537471644234004\n",
      "Error with TV, radio and newspaper -  1.2520112296870682\n"
     ]
    }
   ],
   "source": [
    "#Comparing the errors of the three cases\n",
    "print(\"Error with TV - \",(mean1))\n",
    "print(\"Error with TV and radio - \",(mean2))\n",
    "print(\"Error with TV, radio and newspaper - \",(mean3))"
   ]
  },
  {
   "cell_type": "markdown",
   "metadata": {},
   "source": [
    "Adding newspaper as input variable does not change the error much. This implies newspaper has no role in decreasing the error. Therefore, there is no role of newspaper in the sales."
   ]
  },
  {
   "cell_type": "code",
   "execution_count": 24,
   "metadata": {},
   "outputs": [
    {
     "name": "stdout",
     "output_type": "stream",
     "text": [
      "[[8.73440528]]\n",
      "[[13.05646134]]\n",
      "[[12.99444864]]\n"
     ]
    }
   ],
   "source": [
    "#Comapring the three cases to show that newspaper has no effect on sales\n",
    "print(lmodel1.predict([[35.8]]))\n",
    "print(lmodel2.predict([[35.8,45.2]]))\n",
    "print(lmodel3.predict([[35.8,45.2,100.6]]))"
   ]
  },
  {
   "cell_type": "markdown",
   "metadata": {},
   "source": [
    "# Correlation"
   ]
  },
  {
   "cell_type": "code",
   "execution_count": 25,
   "metadata": {},
   "outputs": [
    {
     "data": {
      "text/html": [
       "<div>\n",
       "<style scoped>\n",
       "    .dataframe tbody tr th:only-of-type {\n",
       "        vertical-align: middle;\n",
       "    }\n",
       "\n",
       "    .dataframe tbody tr th {\n",
       "        vertical-align: top;\n",
       "    }\n",
       "\n",
       "    .dataframe thead th {\n",
       "        text-align: right;\n",
       "    }\n",
       "</style>\n",
       "<table border=\"1\" class=\"dataframe\">\n",
       "  <thead>\n",
       "    <tr style=\"text-align: right;\">\n",
       "      <th></th>\n",
       "      <th>TV</th>\n",
       "      <th>radio</th>\n",
       "      <th>newspaper</th>\n",
       "      <th>sales</th>\n",
       "    </tr>\n",
       "  </thead>\n",
       "  <tbody>\n",
       "    <tr>\n",
       "      <th>TV</th>\n",
       "      <td>1.000000</td>\n",
       "      <td>0.054809</td>\n",
       "      <td>0.056648</td>\n",
       "      <td>0.782224</td>\n",
       "    </tr>\n",
       "    <tr>\n",
       "      <th>radio</th>\n",
       "      <td>0.054809</td>\n",
       "      <td>1.000000</td>\n",
       "      <td>0.354104</td>\n",
       "      <td>0.576223</td>\n",
       "    </tr>\n",
       "    <tr>\n",
       "      <th>newspaper</th>\n",
       "      <td>0.056648</td>\n",
       "      <td>0.354104</td>\n",
       "      <td>1.000000</td>\n",
       "      <td>0.228299</td>\n",
       "    </tr>\n",
       "    <tr>\n",
       "      <th>sales</th>\n",
       "      <td>0.782224</td>\n",
       "      <td>0.576223</td>\n",
       "      <td>0.228299</td>\n",
       "      <td>1.000000</td>\n",
       "    </tr>\n",
       "  </tbody>\n",
       "</table>\n",
       "</div>"
      ],
      "text/plain": [
       "                 TV     radio  newspaper     sales\n",
       "TV         1.000000  0.054809   0.056648  0.782224\n",
       "radio      0.054809  1.000000   0.354104  0.576223\n",
       "newspaper  0.056648  0.354104   1.000000  0.228299\n",
       "sales      0.782224  0.576223   0.228299  1.000000"
      ]
     },
     "execution_count": 25,
     "metadata": {},
     "output_type": "execute_result"
    }
   ],
   "source": [
    "#Correlation Matrix\n",
    "df = df[['TV','radio','newspaper','sales']]\n",
    "df.corr()"
   ]
  },
  {
   "cell_type": "markdown",
   "metadata": {},
   "source": [
    "This shows correlation between each and every variable present in the dataframe"
   ]
  },
  {
   "cell_type": "markdown",
   "metadata": {},
   "source": [
    "# Understanding Correlation using graphics"
   ]
  },
  {
   "cell_type": "code",
   "execution_count": 26,
   "metadata": {},
   "outputs": [
    {
     "data": {
      "image/png": "[encoded data removed]",
      "text/plain": [
       "<Figure size 432x288 with 1 Axes>"
      ]
     },
     "metadata": {
      "needs_background": "light"
     },
     "output_type": "display_data"
    }
   ],
   "source": [
    "plt.scatter(df['TV'],df['sales'])\n",
    "plt.xlabel(\"TV\") #set label of x-axis\n",
    "plt.ylabel(\"Sales\") #set label of y-axis\n",
    "plt.title(\"Corelation between TV and Sales\") #set title of the plot\n",
    "plt.show()"
   ]
  },
  {
   "cell_type": "markdown",
   "metadata": {},
   "source": [
    "Shows that TV and sales have some similarity."
   ]
  },
  {
   "cell_type": "code",
   "execution_count": 27,
   "metadata": {},
   "outputs": [
    {
     "data": {
      "image/png": "[encoded data removed]",
      "text/plain": [
       "<Figure size 432x288 with 1 Axes>"
      ]
     },
     "metadata": {
      "needs_background": "light"
     },
     "output_type": "display_data"
    }
   ],
   "source": [
    "plt.scatter(df['radio'],df['sales'])\n",
    "plt.xlabel(\"Radio\") #set label of x-axis\n",
    "plt.ylabel(\"Sales\") #set label of y-axis\n",
    "plt.title(\"Corelation between Radio and Sales\") #set title of the plot\n",
    "plt.show()"
   ]
  },
  {
   "cell_type": "code",
   "execution_count": 28,
   "metadata": {},
   "outputs": [
    {
     "data": {
      "image/png": "[encoded data removed]",
      "text/plain": [
       "<Figure size 432x288 with 1 Axes>"
      ]
     },
     "metadata": {
      "needs_background": "light"
     },
     "output_type": "display_data"
    }
   ],
   "source": [
    "plt.scatter(df['newspaper'],df['sales'])\n",
    "plt.xlabel(\"Newspaper\") #set label of x-axis\n",
    "plt.ylabel(\"Sales\") #set label of y-axis\n",
    "plt.title(\"Corelation between Newspaper and Sales\") #set title of the plot\n",
    "plt.show()"
   ]
  },
  {
   "cell_type": "markdown",
   "metadata": {},
   "source": [
    "The plot between newspaper and sales in very scattered. This shows there is simply no relation between them."
   ]
  }
 ],
 "metadata": {
  "kernelspec": {
   "display_name": "Python 3",
   "language": "python",
   "name": "python3"
  },
  "language_info": {
   "codemirror_mode": {
    "name": "ipython",
    "version": 3
   },
   "file_extension": ".py",
   "mimetype": "text/x-python",
   "name": "python",
   "nbconvert_exporter": "python",
   "pygments_lexer": "ipython3",
   "version": "3.7.7"
  }
 },
 "nbformat": 4,
 "nbformat_minor": 4
}
